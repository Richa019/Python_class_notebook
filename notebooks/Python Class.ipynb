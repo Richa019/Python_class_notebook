{
 "cells": [
  {
   "cell_type": "code",
   "execution_count": 0,
   "metadata": {
    "application/vnd.databricks.v1+cell": {
     "cellMetadata": {
      "byteLimit": 2048000,
      "rowLimit": 10000
     },
     "inputWidgets": {},
     "nuid": "d5a5b52b-127f-462d-8d4d-7c256a914a5f",
     "showTitle": false,
     "tableResultSettingsMap": {},
     "title": ""
    }
   },
   "outputs": [],
   "source": [
    "from pyspark.sql.types import *\n",
    "from pyspark.sql.functions import *\n",
    "from pyspark.sql.window import Window"
   ]
  },
  {
   "cell_type": "code",
   "execution_count": 0,
   "metadata": {
    "application/vnd.databricks.v1+cell": {
     "cellMetadata": {
      "byteLimit": 2048000,
      "rowLimit": 10000
     },
     "inputWidgets": {},
     "nuid": "0a5b602a-25ed-4ae4-a825-c9bb0650ee57",
     "showTitle": false,
     "tableResultSettingsMap": {},
     "title": ""
    }
   },
   "outputs": [],
   "source": [
    "class window_func:\n",
    "    df = spark.read.format(\"csv\")\\\n",
    "    .option(\"header\", \"true\")\\\n",
    "    .option(\"inferSchema\", \"true\")\\\n",
    "    .load(\"/FileStore/tables/sourcedata/sales_data_first.csv\")\n",
    "\n",
    "\n",
    "    \n",
    "    def dense_rank_func(self,new_col,part_col,ord_col):\n",
    "\n",
    "        self.df = self.df.withColumn(new_col,dense_rank().over(Window.partitionBy(part_col).orderBy(col(ord_col).desc())))\n",
    "        return self.df\n",
    "    \n",
    "    def rank_func(self,new_col,part_col,ord_col):\n",
    "\n",
    "        self.df = self.df.withColumn(new_col,rank().over(Window.partitionBy(part_col).orderBy(col(ord_col).desc())))\n",
    "        return self.df\n",
    "    \n",
    "    def rownumber_func(self,new_col,part_col,ord_col):\n",
    "\n",
    "        self.df = self.df.withColumn(new_col,row_number().over(Window.partitionBy(part_col).orderBy(col(ord_col).desc())))\n",
    "        return self.df\n",
    "    "
   ]
  }
 ],
 "metadata": {
  "application/vnd.databricks.v1+notebook": {
   "computePreferences": null,
   "dashboards": [],
   "environmentMetadata": {
    "base_environment": "",
    "environment_version": "2"
   },
   "inputWidgetPreferences": null,
   "language": "python",
   "notebookMetadata": {
    "pythonIndentUnit": 4
   },
   "notebookName": "Python Class",
   "widgets": {}
  },
  "language_info": {
   "name": "python"
  }
 },
 "nbformat": 4,
 "nbformat_minor": 0
}